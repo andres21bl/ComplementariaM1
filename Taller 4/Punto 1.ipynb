{
 "cells": [
  {
   "cell_type": "code",
   "execution_count": 4,
   "id": "f4e3a790",
   "metadata": {},
   "outputs": [],
   "source": [
    "import numpy as np"
   ]
  },
  {
   "cell_type": "markdown",
   "id": "88375ebe",
   "metadata": {},
   "source": [
    "## Calculo de probabilidad\n",
    "1. Se reparten cartas, una a la vez, de una baraja de 52 cartas.\n",
    "\n",
    "a) Si las primeras 2 cartas son espadas, ¿cuál es la probabilidad de que las siguientes 3 cartas también sean espadas?\n",
    "\n",
    "b) Si las primeras 3 cartas son todas de espadas, ¿cuál es la probabilidad de que las 2 cartas siguientes sean también espadas?\n",
    "\n",
    "c) Si las primeras 4 cartas son todas de espadas, ¿cuál es la probabilidad de que la siguiente carta sea también una espada?\n"
   ]
  },
  {
   "cell_type": "code",
   "execution_count": 35,
   "id": "264b1623",
   "metadata": {},
   "outputs": [],
   "source": [
    "def Espadas_Sig(Actuales:int,Siguientes:int):\n",
    "\n",
    "    A = 52 - Actuales\n",
    "\n",
    "    B = 13 - Actuales\n",
    "\n",
    "    Bar = np.zeros(A)\n",
    "\n",
    "    Bar[:B] = 1\n",
    "\n",
    "    Nice = 0\n",
    "\n",
    "    N = 100000\n",
    "\n",
    "    for i in range(N):\n",
    "  \n",
    "        np.random.shuffle(Bar)\n",
    "\n",
    "        if np.sum(Bar[:Siguientes]) == Siguientes:\n",
    "\n",
    "            Nice += 1\n",
    "\n",
    "    print ('Si se tienen' , str(Actuales) , 'cartas de espadas, la probabilidad de que las próximas'  , str(Siguientes) , \n",
    "   'cartas sean espadas es del',str((Nice / N)))"
   ]
  },
  {
   "cell_type": "code",
   "execution_count": 36,
   "id": "d38b113b",
   "metadata": {},
   "outputs": [
    {
     "name": "stdout",
     "output_type": "stream",
     "text": [
      "Si se tienen 2 cartas de espadas, la probabilidad de que las próximas 3 cartas sean espadas es del 0.00879\n"
     ]
    }
   ],
   "source": [
    "Espadas_Sig(2,3)"
   ]
  },
  {
   "cell_type": "code",
   "execution_count": 37,
   "id": "959c0940",
   "metadata": {},
   "outputs": [
    {
     "name": "stdout",
     "output_type": "stream",
     "text": [
      "Si se tienen 3 cartas de espadas, la probabilidad de que las próximas 2 cartas sean espadas es del 0.03794\n"
     ]
    }
   ],
   "source": [
    "Espadas_Sig(3,2)"
   ]
  },
  {
   "cell_type": "code",
   "execution_count": 38,
   "id": "a785fdb5",
   "metadata": {},
   "outputs": [
    {
     "name": "stdout",
     "output_type": "stream",
     "text": [
      "Si se tienen 4 cartas de espadas, la probabilidad de que las próximas 1 cartas sean espadas es del 0.186\n"
     ]
    }
   ],
   "source": [
    "Espadas_Sig(4,1)"
   ]
  },
  {
   "cell_type": "markdown",
   "id": "6cae6a7f",
   "metadata": {},
   "source": [
    "2. Suponga que la probabilidad de exposición a la gripe durante una epidemia es 6. La experiencia ha demostrado que un suero tiene 80 % de éxito para prevenir que una persona inoculada contraiga la gripe si se expone a ella. Una persona no inoculada enfrenta una probabilidad de, 90 de contraer la gripe si se expone a ella. Dos personas, una inoculada y otra no, realizan un trabajo altamente especializado en un negocio. Suponga que no están en el mismo lugar, no están en contacto con las mismas personas y no pueden contagiarse entre sí a la gripe. ¿Cuál es la probabilidad de que al menos una de ellas se enferme?\n"
   ]
  },
  {
   "cell_type": "code",
   "execution_count": 34,
   "id": "25538ac1",
   "metadata": {},
   "outputs": [
    {
     "name": "stdout",
     "output_type": "stream",
     "text": [
      "La probabilidad de que al menos una de ellas se enferme es: 0.24999999999999994\n"
     ]
    }
   ],
   "source": [
    "# Probabilidades dadas\n",
    "P_A = 0.8\n",
    "P_B = 0.9\n",
    "P_B_given_A = 1 - P_A\n",
    "P_A_given_B = 1 - P_B\n",
    "\n",
    "# Aplicar la regla de probabilidad total\n",
    "P_A_union_B = P_A * P_B_given_A + P_B * P_A_given_B\n",
    "\n",
    "print(\"La probabilidad de que al menos una de ellas se enferme es:\", P_A_union_B)"
   ]
  },
  {
   "cell_type": "code",
   "execution_count": null,
   "id": "a6446c6a",
   "metadata": {},
   "outputs": [],
   "source": []
  }
 ],
 "metadata": {
  "kernelspec": {
   "display_name": "Python 3 (ipykernel)",
   "language": "python",
   "name": "python3"
  },
  "language_info": {
   "codemirror_mode": {
    "name": "ipython",
    "version": 3
   },
   "file_extension": ".py",
   "mimetype": "text/x-python",
   "name": "python",
   "nbconvert_exporter": "python",
   "pygments_lexer": "ipython3",
   "version": "3.11.4"
  }
 },
 "nbformat": 4,
 "nbformat_minor": 5
}
