{
 "cells": [
  {
   "cell_type": "code",
   "execution_count": 41,
   "id": "96e0a5c7",
   "metadata": {},
   "outputs": [],
   "source": [
    "import numpy as np\n",
    "import scipy as sp\n",
    "import matplotlib.pyplot as plt"
   ]
  },
  {
   "cell_type": "code",
   "execution_count": 42,
   "id": "ee5a7f09",
   "metadata": {},
   "outputs": [],
   "source": [
    "def funcion(x):\n",
    "    if x>-1 and x<2:\n",
    "        return (x**2)/3\n",
    "    else:\n",
    "        return 0"
   ]
  },
  {
   "cell_type": "markdown",
   "id": "cbdf6b55",
   "metadata": {},
   "source": [
    " # Ejercicio 1\n",
    "Suponga que el error en la temperatura en un experimento controlado de laboratorio es una variable aleatoria continua X, que tiene la siguiente función de densidad de probabilidad:\n",
    "f(x) = $\\frac{x^2}{3} \\, para −1 ≤ x ≤ 2, 0$  en otro caso \n",
    "\n",
    "Encuentre las probabilidades:\n",
    "\n",
    "\n",
    "a) $P(0 < X ≤ 1)$\n",
    "\n",
    "b) $P(1 < X ≤ 2)$"
   ]
  },
  {
   "cell_type": "code",
   "execution_count": 43,
   "id": "80af2845",
   "metadata": {},
   "outputs": [
    {
     "name": "stdout",
     "output_type": "stream",
     "text": [
      "0.11111111111111 0.77777777777778 1.0\n"
     ]
    }
   ],
   "source": [
    "p_a=sp.integrate.quad(funcion, 0, 1)\n",
    "p_b=sp.integrate.quad(funcion, 1, 2)\n",
    "p_c=sp.integrate.quad(funcion, -1, 2)\n",
    "print(np.round(p_a[0],14), np.round(p_b[0],14), np.round(p_c[0],14))"
   ]
  },
  {
   "cell_type": "markdown",
   "id": "f8b9af75",
   "metadata": {},
   "source": [
    "## Ejercicio 2\n",
    "Se supone que las calificaciones de un examen están normalmente distribuidas con media 78 y varianza de 36.\n",
    "\n",
    "a) ¿Cuál es la probabilidad de que una persona que haga el examen alcance calificaciones mayores de 72?\n",
    "\n",
    "\n"
   ]
  },
  {
   "cell_type": "code",
   "execution_count": 44,
   "id": "773a8e01",
   "metadata": {},
   "outputs": [],
   "source": [
    "s = np.sqrt(36)\n",
    "z = (72 - 78) / s"
   ]
  },
  {
   "cell_type": "code",
   "execution_count": 96,
   "id": "e28f2371",
   "metadata": {},
   "outputs": [
    {
     "name": "stdout",
     "output_type": "stream",
     "text": [
      "La probabilidad de alcanzar calificaciones mayores a 72 es 84.13000000000001 %\n"
     ]
    }
   ],
   "source": [
    "prob_mayor = 1 - sp.stats.norm.cdf(72.,78.,s)\n",
    "\n",
    "A = np.linspace(0,1,5000)\n",
    "B = 72\n",
    "\n",
    "def getProb(A, B):\n",
    "    final = []\n",
    "    for i in A:\n",
    "        valores = np.random.normal(loc=78,scale=s,size=15000)\n",
    "        condicion = valores.copy()\n",
    "        condicion = valores>B\n",
    "        ite = np.sum(condicion)\n",
    "        final.append(ite/15000)\n",
    "    return np.array(final)\n",
    "\n",
    "mayor_72 = np.mean(getProb(A,B))\n",
    "\n",
    "print('La probabilidad de alcanzar calificaciones mayores a 72 es', np.round(prob_mayor_72,4)*100, '%')"
   ]
  },
  {
   "cell_type": "markdown",
   "id": "a3257c74",
   "metadata": {},
   "source": [
    "b) Suponga que los estudiantes que alcancen el 10 % más alto de esta distribución reciben una calificacion de A. ¿Cuál es la calificación mínima que un estudiante debe recibir para ganar una calificacion de A?"
   ]
  },
  {
   "cell_type": "code",
   "execution_count": 87,
   "id": "a1c00be7",
   "metadata": {},
   "outputs": [
    {
     "name": "stdout",
     "output_type": "stream",
     "text": [
      "La calificación mínima debe ser 85.69 para ganar una calificación A.\n"
     ]
    }
   ],
   "source": [
    "A = []\n",
    "\n",
    "for i in range(1000):\n",
    "    \n",
    "    norm = np.random.normal(loc=78,scale=std,size=15000)\n",
    "    A.append(valores_norm)\n",
    "    \n",
    "A = np.array(esto)\n",
    "\n",
    "nota_1 = np.percentile(A,90)\n",
    "\n",
    "nota_2 = np.percentile(A,71.9)\n",
    "\n",
    "print('La calificación mínima debe ser', np.round(nota_1,2), 'para ganar una calificación A.')\n"
   ]
  },
  {
   "cell_type": "markdown",
   "id": "2f0e7a1c",
   "metadata": {},
   "source": [
    "c) ¿Cuál debe ser el punto límite para pasar el examen si el examinador desea pasar a solo 28,1 % más alto de todas las calificaciones?"
   ]
  },
  {
   "cell_type": "code",
   "execution_count": 88,
   "id": "15589325",
   "metadata": {},
   "outputs": [
    {
     "name": "stdout",
     "output_type": "stream",
     "text": [
      "El lÍmite para pasar el examen debe ser 81.48 , si solo desea pasar a 28,1% más alto.\n"
     ]
    }
   ],
   "source": [
    "print('El lÍmite para pasar el examen debe ser', np.round(nota_2,2), ', si solo desea pasar a 28,1% más alto.')"
   ]
  },
  {
   "cell_type": "markdown",
   "id": "44b57346",
   "metadata": {},
   "source": [
    "d) Aproximadamente que proporción de estudiantes tienen calificaciones de 5 o más puntos arriba de la calificación que corta al 25 % mas bajo?"
   ]
  },
  {
   "cell_type": "code",
   "execution_count": 94,
   "id": "dc67c00d",
   "metadata": {},
   "outputs": [
    {
     "name": "stdout",
     "output_type": "stream",
     "text": [
      "La proporción de estudiantes es  44.0 %\n"
     ]
    }
   ],
   "source": [
    "nota_3 = float(np.round(np.percentile(A,25),2)+5)\n",
    "\n",
    "C = np.linspace(0,1,5000)\n",
    "\n",
    "def getProb3(C,A):\n",
    "    \n",
    "    final=[]\n",
    "    \n",
    "    for i in C:\n",
    "        valores = np.random.normal(loc=78,scale=s,size=15000)\n",
    "        condicion = valores.copy()\n",
    "        condicion = valores >= A\n",
    "        ite = np.sum(condicion)\n",
    "        final.append(ite/15000)\n",
    "    return np.array(final)\n",
    "\n",
    "prob_mayor_5mas = np.mean(getProb3(C,float(nota_3)))\n",
    "\n",
    "print('La proporción de estudiantes es ', np.round(prob_mayor_5mas,2)*100, '%')"
   ]
  },
  {
   "cell_type": "markdown",
   "id": "d31e2360",
   "metadata": {},
   "source": [
    "e) Si se sabe que la calificación de un estudiante excede de 72, ¿cuál es la probabilidad de que su calificacion exceda de 84?"
   ]
  },
  {
   "cell_type": "code",
   "execution_count": 100,
   "id": "19ad77d9",
   "metadata": {},
   "outputs": [
    {
     "name": "stdout",
     "output_type": "stream",
     "text": [
      "La probabilidad de que la calificación exceda de 84 es 15.9 %\n"
     ]
    }
   ],
   "source": [
    "prob84 = np.mean(getProb(C,84))\n",
    "prob_d = prob84*mayor_72/mayor_72\n",
    "print('La probabilidad de que la calificación exceda de 84 es', np.round(prob_d,3)*100, '%')"
   ]
  },
  {
   "cell_type": "code",
   "execution_count": null,
   "id": "620fe0a9",
   "metadata": {},
   "outputs": [],
   "source": []
  }
 ],
 "metadata": {
  "kernelspec": {
   "display_name": "Python 3 (ipykernel)",
   "language": "python",
   "name": "python3"
  },
  "language_info": {
   "codemirror_mode": {
    "name": "ipython",
    "version": 3
   },
   "file_extension": ".py",
   "mimetype": "text/x-python",
   "name": "python",
   "nbconvert_exporter": "python",
   "pygments_lexer": "ipython3",
   "version": "3.11.4"
  }
 },
 "nbformat": 4,
 "nbformat_minor": 5
}
