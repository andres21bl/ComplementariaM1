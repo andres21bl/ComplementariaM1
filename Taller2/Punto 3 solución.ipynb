{
 "cells": [
  {
   "cell_type": "code",
   "execution_count": 1,
   "id": "a8d9e2b4",
   "metadata": {},
   "outputs": [],
   "source": [
    "import numpy as np\n",
    "import sympy as sym\n",
    "import math as mt"
   ]
  },
  {
   "cell_type": "code",
   "execution_count": 2,
   "id": "5a1d21d7",
   "metadata": {},
   "outputs": [],
   "source": [
    "x = sym.Symbol('x',real=True)\n",
    "y = sym.Symbol('y',real=True)"
   ]
  },
  {
   "cell_type": "code",
   "execution_count": 3,
   "id": "76692995",
   "metadata": {},
   "outputs": [],
   "source": [
    "def GetLaguerreRecursive(n,x):\n",
    "\n",
    "    if n==0:\n",
    "        poly = sym.Pow(1,1)\n",
    "    elif n==1:\n",
    "        poly = 1- x\n",
    "    else:\n",
    "        poly = ((2*n-1-x)*GetLaguerreRecursive(n-1,x)-(n-1)*GetLaguerreRecursive(n-2,x))/n\n",
    "   \n",
    "    return sym.simplify(poly)"
   ]
  },
  {
   "cell_type": "code",
   "execution_count": 4,
   "id": "8ad24888",
   "metadata": {},
   "outputs": [
    {
     "data": {
      "text/latex": [
       "$\\displaystyle 1$"
      ],
      "text/plain": [
       "1"
      ]
     },
     "execution_count": 4,
     "metadata": {},
     "output_type": "execute_result"
    }
   ],
   "source": [
    "GetLaguerreRecursive(0,x)"
   ]
  },
  {
   "cell_type": "code",
   "execution_count": 5,
   "id": "fe11ffad",
   "metadata": {},
   "outputs": [
    {
     "data": {
      "text/latex": [
       "$\\displaystyle 1 - x$"
      ],
      "text/plain": [
       "1 - x"
      ]
     },
     "execution_count": 5,
     "metadata": {},
     "output_type": "execute_result"
    }
   ],
   "source": [
    "GetLaguerreRecursive(1,x)"
   ]
  },
  {
   "cell_type": "code",
   "execution_count": 6,
   "id": "eee440d3",
   "metadata": {},
   "outputs": [
    {
     "data": {
      "text/latex": [
       "$\\displaystyle \\frac{\\left(x - 3\\right) \\left(x - 1\\right)}{2} - \\frac{1}{2}$"
      ],
      "text/plain": [
       "(x - 3)*(x - 1)/2 - 1/2"
      ]
     },
     "execution_count": 6,
     "metadata": {},
     "output_type": "execute_result"
    }
   ],
   "source": [
    "GetLaguerreRecursive(2,x) #equivalente a (x^2-4x+2)/2"
   ]
  },
  {
   "cell_type": "code",
   "execution_count": 7,
   "id": "3b37db0c",
   "metadata": {},
   "outputs": [
    {
     "data": {
      "text/latex": [
       "$\\displaystyle - \\frac{x^{3}}{6} + \\frac{3 x^{2}}{2} - 3 x + 1$"
      ],
      "text/plain": [
       "-x**3/6 + 3*x**2/2 - 3*x + 1"
      ]
     },
     "execution_count": 7,
     "metadata": {},
     "output_type": "execute_result"
    }
   ],
   "source": [
    "GetLaguerreRecursive(3,x) #equivalente a (-x^3+9x^2-18x+6)/6. Por lo que ya comprobamos que esta bien el anterior metodo"
   ]
  },
  {
   "cell_type": "code",
   "execution_count": 8,
   "id": "4c40a8ef",
   "metadata": {},
   "outputs": [],
   "source": [
    "def GetDLaguerre(n,x):\n",
    "    Pn = GetLaguerreRecursive(n,x)\n",
    "    return sym.diff(Pn,x,1)"
   ]
  },
  {
   "cell_type": "code",
   "execution_count": 9,
   "id": "98fb6db3",
   "metadata": {},
   "outputs": [
    {
     "data": {
      "text/latex": [
       "$\\displaystyle - \\frac{x^{2}}{2} + 3 x - 3$"
      ],
      "text/plain": [
       "-x**2/2 + 3*x - 3"
      ]
     },
     "execution_count": 9,
     "metadata": {},
     "output_type": "execute_result"
    }
   ],
   "source": [
    "GetDLaguerre(3,x)#coincide con lo calculado"
   ]
  },
  {
   "cell_type": "code",
   "execution_count": 10,
   "id": "3f78d36f",
   "metadata": {},
   "outputs": [],
   "source": [
    "def GetNewton(f,df,xn,itmax=10000,precision= 1e-6):\n",
    "    \n",
    "    error = 1.\n",
    "    it = 0\n",
    "    \n",
    "    while error >= precision and it < itmax:\n",
    "        \n",
    "        try:\n",
    "            \n",
    "            xn1 = xn - f(xn)/df(xn)\n",
    "            \n",
    "            error = np.abs(f(xn)/df(xn))\n",
    "            \n",
    "        except ZeroDivisionError:\n",
    "            print('Zero Division')\n",
    "            \n",
    "        xn = xn1\n",
    "        it += 1\n",
    "        \n",
    "    if it == itmax:\n",
    "        return False\n",
    "    else:\n",
    "        return xn"
   ]
  },
  {
   "cell_type": "code",
   "execution_count": 11,
   "id": "14314398",
   "metadata": {},
   "outputs": [],
   "source": [
    "def GetRootsGLag(f,df,x,tolerancia = 10):\n",
    "    \n",
    "    Roots = np.array([])\n",
    "    \n",
    "    for i in x:\n",
    "        \n",
    "        root = GetNewton(f,df,i)\n",
    "    \n",
    "        croot = np.round( root, tolerancia )\n",
    "        \n",
    "        if croot not in Roots:\n",
    "            Roots = np.append(Roots, croot)\n",
    "                \n",
    "    Roots.sort()\n",
    "    \n",
    "    return Roots"
   ]
  },
  {
   "cell_type": "code",
   "execution_count": 12,
   "id": "4a31dfe7",
   "metadata": {},
   "outputs": [],
   "source": [
    "def GetAllRootsGLag(n):\n",
    "\n",
    "    xn = np.linspace(0, n+(n-1)*np.sqrt(n),100)\n",
    "    \n",
    "    Laguerre = []\n",
    "    DLaguerre = []\n",
    "    \n",
    "    for i in range(n+1):\n",
    "        Laguerre.append(GetLaguerreRecursive(i,x))\n",
    "        DLaguerre.append(GetDLaguerre(i,x))\n",
    "    \n",
    "    poly = sym.lambdify([x],Laguerre[n],'numpy')\n",
    "    Dpoly = sym.lambdify([x],DLaguerre[n],'numpy')\n",
    "    Roots = GetRootsGLag(poly,Dpoly,xn)\n",
    "    \n",
    "    return Roots"
   ]
  },
  {
   "cell_type": "code",
   "execution_count": 13,
   "id": "77097f8b",
   "metadata": {},
   "outputs": [
    {
     "data": {
      "text/plain": [
       "array([ 0.26356032,  1.41340306,  3.59642577,  7.08581001, 12.64080084])"
      ]
     },
     "execution_count": 13,
     "metadata": {},
     "output_type": "execute_result"
    }
   ],
   "source": [
    "GetAllRootsGLag(5)"
   ]
  },
  {
   "cell_type": "code",
   "execution_count": 14,
   "id": "4e69d6c9",
   "metadata": {},
   "outputs": [],
   "source": [
    "def GetWeightsGLag(n):\n",
    "\n",
    "    Roots = GetAllRootsGLag(n)\n",
    "    \n",
    "    Laguerre = []\n",
    "    \n",
    "    for i in range(n+2):\n",
    "        Laguerre.append(GetLaguerreRecursive(i,x))\n",
    "        \n",
    "    poly = sym.lambdify([x],Laguerre[n+1],'numpy')\n",
    "    #Dpoly = sym.lambdify([x],DLaguerre[n],'numpy')\n",
    "    Weights = Roots/(((n+1)**2)*(poly(Roots)**2))\n",
    "    \n",
    "    return Weights"
   ]
  },
  {
   "cell_type": "code",
   "execution_count": 15,
   "id": "223bcfad",
   "metadata": {},
   "outputs": [
    {
     "data": {
      "text/plain": [
       "array([ 0.26356032,  1.41340306,  3.59642577,  7.08581001, 12.64080084])"
      ]
     },
     "execution_count": 15,
     "metadata": {},
     "output_type": "execute_result"
    }
   ],
   "source": [
    "raices = GetAllRootsGLag(5)\n",
    "raices"
   ]
  },
  {
   "cell_type": "code",
   "execution_count": 16,
   "id": "d5d6f3e7",
   "metadata": {},
   "outputs": [
    {
     "data": {
      "text/plain": [
       "array([5.21755611e-01, 3.98666811e-01, 7.59424497e-02, 3.61175868e-03,\n",
       "       2.33699724e-05])"
      ]
     },
     "execution_count": 16,
     "metadata": {},
     "output_type": "execute_result"
    }
   ],
   "source": [
    "pesos = GetWeightsGLag(5)\n",
    "pesos"
   ]
  },
  {
   "cell_type": "code",
   "execution_count": 17,
   "id": "49cff48c",
   "metadata": {},
   "outputs": [],
   "source": [
    "funcion = lambda x: x**2\n"
   ]
  },
  {
   "cell_type": "code",
   "execution_count": 18,
   "id": "92876661",
   "metadata": {},
   "outputs": [],
   "source": [
    "I = 0\n",
    "for i in range(5):\n",
    "\n",
    "    I += pesos[i]*funcion(raices[i])"
   ]
  },
  {
   "cell_type": "code",
   "execution_count": 19,
   "id": "93fa614f",
   "metadata": {},
   "outputs": [
    {
     "data": {
      "text/plain": [
       "2.000000000146056"
      ]
     },
     "execution_count": 19,
     "metadata": {},
     "output_type": "execute_result"
    }
   ],
   "source": [
    "I"
   ]
  },
  {
   "cell_type": "code",
   "execution_count": null,
   "id": "180a434b",
   "metadata": {},
   "outputs": [],
   "source": []
  },
  {
   "cell_type": "code",
   "execution_count": null,
   "id": "547f80c4",
   "metadata": {},
   "outputs": [],
   "source": []
  }
 ],
 "metadata": {
  "kernelspec": {
   "display_name": "Python 3 (ipykernel)",
   "language": "python",
   "name": "python3"
  },
  "language_info": {
   "codemirror_mode": {
    "name": "ipython",
    "version": 3
   },
   "file_extension": ".py",
   "mimetype": "text/x-python",
   "name": "python",
   "nbconvert_exporter": "python",
   "pygments_lexer": "ipython3",
   "version": "3.11.4"
  }
 },
 "nbformat": 4,
 "nbformat_minor": 5
}
