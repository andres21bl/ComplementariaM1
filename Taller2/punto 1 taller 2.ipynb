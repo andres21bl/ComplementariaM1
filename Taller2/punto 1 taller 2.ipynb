{
 "cells": [
  {
   "cell_type": "code",
   "execution_count": null,
   "metadata": {},
   "outputs": [],
   "source": [
    "import numpy as np\n",
    "import matplotlib.pyplot as plt\n",
    "\n",
    "B_0 = 0.05\n",
    "frecuencia = 7\n",
    "Omega = 3.5\n",
    "R = 1.75e3\n",
    "diametro = 0.25\n",
    "radio = diametro / 2\n",
    "mu_0 = 4 * np.pi * 1e-7\n",
    "h = 1e-6\n",
    "\n",
    "def flujo(t):\n",
    "    f = np.pi * (radio**2)*B_0*np.cos(Omega*t)*np.cos(2*np.pi*frecuencia*t)\n",
    "    return f\n",
    "\n",
    "def corriente(t):\n",
    "    derivada = (flujo(t + h) - flujo(t - h)) / (2 * h)\n",
    "    I = (-1 / R) * derivada\n",
    "    return I\n",
    "\n",
    "t_valores = np.linspace(0, 2 * np.pi / frecuencia, 1000)\n",
    "corriente_valores = corriente(t_valores)\n",
    "\n",
    "plt.figure(figsize=(10, 5))\n",
    "plt.plot(t_valores, corriente_valores)\n",
    "plt.title('Corriente Inducida en Función de Tiempo')\n",
    "plt.xlabel('Tiempo (s)')\n",
    "plt.ylabel('Corriente Inducida (A)')\n",
    "plt.grid(True)\n",
    "\n",
    "cruces_cero = np.where(np.diff(np.sign(corriente_valores)))[0]\n",
    "tiempo_cruces_cero = t_valores[cruces_cero]\n",
    "\n",
    "print(\"Tiempos en los que la corriente es cero:\")\n",
    "for i, t in enumerate(tiempo_cruces_cero[:3]):\n",
    "    print(f\"Instante {i + 1}: t = {t:.4f} s\")\n",
    "\n",
    "plt.show()\n"
   ]
  }
 ],
 "metadata": {
  "kernelspec": {
   "display_name": "base",
   "language": "python",
   "name": "python3"
  },
  "language_info": {
   "name": "python",
   "version": "3.9.13"
  },
  "orig_nbformat": 4
 },
 "nbformat": 4,
 "nbformat_minor": 2
}
