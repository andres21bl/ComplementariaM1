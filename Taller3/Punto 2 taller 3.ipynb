{
 "cells": [
  {
   "cell_type": "code",
   "execution_count": 21,
   "id": "0b1767eb",
   "metadata": {},
   "outputs": [],
   "source": [
    "import numpy as np\n",
    "import matplotlib.pyplot as plt\n",
    "import sympy as sym\n",
    "import copy"
   ]
  },
  {
   "cell_type": "code",
   "execution_count": 22,
   "id": "ec328578",
   "metadata": {},
   "outputs": [],
   "source": [
    "def eliminacion_gaussiana(M, b):\n",
    "\n",
    "    M = np.column_stack((M, b))\n",
    "    n = len(M)\n",
    "    m = len(M[0])\n",
    "\n",
    "    for i in range(n):\n",
    "        \n",
    "        if M[i,i] == 0.:\n",
    "            sub = copy.copy(M[n-1,:])\n",
    "            M[n-1,:] = M[i,:]\n",
    "            M[i,:] = sub\n",
    "            \n",
    "        M[i,:] /= M[i,i]\n",
    "        \n",
    "        for j in range(i+1,n):\n",
    "            if M[j,i] == 0.: \n",
    "                sub = copy.copy(M[n-1,:])\n",
    "                M[n-1,:] = M[j,:]\n",
    "                M[j,:] = sub\n",
    "\n",
    "                \n",
    "            val = float(M[j,i]/M[i,i])\n",
    "            \n",
    "            for k in range(i,m):\n",
    "                M[j,k] -= val*M[i,k]           \n",
    "                \n",
    "    bFinal = M[:,n]\n",
    "    \n",
    "    return M,bFinal"
   ]
  },
  {
   "cell_type": "code",
   "execution_count": 23,
   "id": "b8bf7117",
   "metadata": {},
   "outputs": [],
   "source": [
    "def substitution(M, b):\n",
    "    \n",
    "    n = np.shape(M)[0]\n",
    "\n",
    "    v = np.zeros(n)\n",
    "\n",
    "    for i in range(n-1,-1,-1):\n",
    "        sum = b[i]\n",
    "        for j in range(n-1,i,-1):\n",
    "            sum -= M[i,j]*v[j]\n",
    "        v[i] = sum/M[i,i]\n",
    "\n",
    "    return v"
   ]
  },
  {
   "cell_type": "code",
   "execution_count": 24,
   "id": "c22b868b",
   "metadata": {},
   "outputs": [],
   "source": [
    "def back_substitution(A, b):\n",
    "    '''\n",
    "    Args:\n",
    "        A (np.array): Matriz de coeficientes triangular superior\n",
    "        b (np.arra): vector de constantes\n",
    "        \n",
    "    '''\n",
    "\n",
    "    n = np.shape(A)[0]\n",
    "\n",
    "    x = np.zeros(n)\n",
    "\n",
    "    for i in range(n-1,-1,-1):\n",
    "        sum = b[i]\n",
    "        for j in range(n-1,i,-1):\n",
    "            sum -= A[i,j]*x[j]\n",
    "        x[i] = sum/A[i,i]\n",
    "\n",
    "    return x"
   ]
  },
  {
   "cell_type": "code",
   "execution_count": 25,
   "id": "07bc35cb",
   "metadata": {},
   "outputs": [
    {
     "data": {
      "text/plain": [
       "array([0.71428571, 0.85714286, 1.        ])"
      ]
     },
     "execution_count": 25,
     "metadata": {},
     "output_type": "execute_result"
    }
   ],
   "source": [
    "A1 = np.array([[3.,1.,-1.],\\\n",
    "             [1.,-2.,1.],\n",
    "             [4.,-1.,1.]])\n",
    "b1 = np.array([2.,0.,3.])\n",
    "\n",
    "M,b = eliminacion_gaussiana(A1,b1)\n",
    "back_substitution(M,b)"
   ]
  },
  {
   "cell_type": "markdown",
   "id": "f6d825c7",
   "metadata": {},
   "source": [
    "Como podemos verificar al reemplazar estos valores en cualquiera de las ecuaciones nos da la solución."
   ]
  },
  {
   "cell_type": "code",
   "execution_count": 27,
   "id": "c746f469",
   "metadata": {},
   "outputs": [
    {
     "data": {
      "text/plain": [
       "array([ 0.71052632, -0.39473684, -0.31578947])"
      ]
     },
     "execution_count": 27,
     "metadata": {},
     "output_type": "execute_result"
    }
   ],
   "source": [
    "A2 = np.array([[1.,1.,1.],\\\n",
    "             [0.,-8.,10.],\n",
    "             [4.,-8.,0.]])\n",
    "\n",
    "b2 = np.array([0.,0.,6.])\n",
    "\n",
    "M,b = eliminacion_gaussiana(A2,b2)\n",
    "back_substitution(M,b)"
   ]
  },
  {
   "cell_type": "code",
   "execution_count": null,
   "id": "015d4d94",
   "metadata": {},
   "outputs": [],
   "source": [
    "Como podemos verificar al reemplazar estos valores en cualquiera de las ecuaciones nos da la solución."
   ]
  }
 ],
 "metadata": {
  "kernelspec": {
   "display_name": "Python 3 (ipykernel)",
   "language": "python",
   "name": "python3"
  },
  "language_info": {
   "codemirror_mode": {
    "name": "ipython",
    "version": 3
   },
   "file_extension": ".py",
   "mimetype": "text/x-python",
   "name": "python",
   "nbconvert_exporter": "python",
   "pygments_lexer": "ipython3",
   "version": "3.11.4"
  }
 },
 "nbformat": 4,
 "nbformat_minor": 5
}
