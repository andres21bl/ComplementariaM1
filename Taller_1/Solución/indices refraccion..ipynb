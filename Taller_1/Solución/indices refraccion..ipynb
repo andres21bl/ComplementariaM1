{
 "cells": [
  {
   "cell_type": "code",
   "execution_count": 1,
   "id": "6816384a",
   "metadata": {},
   "outputs": [],
   "source": [
    "import numpy as np\n",
    "import matplotlib.pyplot as plt\n",
    "import os\n",
    "import os.path as path\n"
   ]
  },
  {
   "cell_type": "code",
   "execution_count": 4,
   "id": "7144587d",
   "metadata": {},
   "outputs": [],
   "source": [
    "def Func_archivoyml_tuplas(ruta_yml: str) -> list:\n",
    "    '''\n",
    "     Lee los archivos yml y devuelve la lista de tuplas\n",
    "    '''\n",
    "    f = open(ruta_yml)\n",
    "    texto_archivo = f.read() #text_archivo es un string de todo lo que contiene el archivo\n",
    "    f.close()\n",
    "\n",
    "    lista_unprocessed = texto_archivo.split('data: |\\n')[1].split('\\nSPECS')[0].split('  - type')[0].strip().split('\\n        ')\n",
    "    \n",
    "    # Acá si gustan pueden darle un print a lista_unprocessed para ver el resultado\n",
    "    lista_final = []\n",
    "\n",
    "    for k in lista_unprocessed:\n",
    "        texto = k.split(' ')\n",
    "        texto[0] = float(texto[0])\n",
    "        texto[1] = float(texto[1])\n",
    "        lista_final.append(tuple(texto))\n",
    "\n",
    "    return lista_final\n"
   ]
  },
  {
   "cell_type": "code",
   "execution_count": 5,
   "id": "d7b30fd4",
   "metadata": {},
   "outputs": [
    {
     "ename": "FileNotFoundError",
     "evalue": "[Errno 2] No such file or directory: 'Metodos1/ComplementariaM1/Taller_1/Adhesivos Ópticos/NOA1348.txt'",
     "output_type": "error",
     "traceback": [
      "\u001b[1;31m---------------------------------------------------------------------------\u001b[0m",
      "\u001b[1;31mFileNotFoundError\u001b[0m                         Traceback (most recent call last)",
      "Cell \u001b[1;32mIn[5], line 2\u001b[0m\n\u001b[0;32m      1\u001b[0m ruta_yml \u001b[39m=\u001b[39m \u001b[39m\"\u001b[39m\u001b[39mMetodos1/ComplementariaM1/Taller_1/Adhesivos Ópticos/NOA1348.txt\u001b[39m\u001b[39m\"\u001b[39m\n\u001b[1;32m----> 2\u001b[0m data1 \u001b[39m=\u001b[39m Func_archivoyml_tuplas(ruta_yml)\n\u001b[0;32m      3\u001b[0m n_n \u001b[39m=\u001b[39m np\u001b[39m.\u001b[39marray(data1[\u001b[39m0\u001b[39m])\n\u001b[0;32m      4\u001b[0m lambda_n \u001b[39m=\u001b[39m np\u001b[39m.\u001b[39marray(data1[\u001b[39m1\u001b[39m])\n",
      "Cell \u001b[1;32mIn[4], line 5\u001b[0m, in \u001b[0;36mFunc_archivoyml_tuplas\u001b[1;34m(ruta_yml)\u001b[0m\n\u001b[0;32m      1\u001b[0m \u001b[39mdef\u001b[39;00m \u001b[39mFunc_archivoyml_tuplas\u001b[39m(ruta_yml: \u001b[39mstr\u001b[39m) \u001b[39m-\u001b[39m\u001b[39m>\u001b[39m \u001b[39mlist\u001b[39m:\n\u001b[0;32m      2\u001b[0m \u001b[39m    \u001b[39m\u001b[39m'''\u001b[39;00m\n\u001b[0;32m      3\u001b[0m \u001b[39m     Lee los archivos yml y devuelve la lista de tuplas\u001b[39;00m\n\u001b[0;32m      4\u001b[0m \u001b[39m    '''\u001b[39;00m\n\u001b[1;32m----> 5\u001b[0m     f \u001b[39m=\u001b[39m \u001b[39mopen\u001b[39;49m(ruta_yml)\n\u001b[0;32m      6\u001b[0m     texto_archivo \u001b[39m=\u001b[39m f\u001b[39m.\u001b[39mread() \u001b[39m#text_archivo es un string de todo lo que contiene el archivo\u001b[39;00m\n\u001b[0;32m      7\u001b[0m     f\u001b[39m.\u001b[39mclose()\n",
      "File \u001b[1;32m~\\AppData\\Local\\Packages\\PythonSoftwareFoundation.Python.3.11_qbz5n2kfra8p0\\LocalCache\\local-packages\\Python311\\site-packages\\IPython\\core\\interactiveshell.py:284\u001b[0m, in \u001b[0;36m_modified_open\u001b[1;34m(file, *args, **kwargs)\u001b[0m\n\u001b[0;32m    277\u001b[0m \u001b[39mif\u001b[39;00m file \u001b[39min\u001b[39;00m {\u001b[39m0\u001b[39m, \u001b[39m1\u001b[39m, \u001b[39m2\u001b[39m}:\n\u001b[0;32m    278\u001b[0m     \u001b[39mraise\u001b[39;00m \u001b[39mValueError\u001b[39;00m(\n\u001b[0;32m    279\u001b[0m         \u001b[39mf\u001b[39m\u001b[39m\"\u001b[39m\u001b[39mIPython won\u001b[39m\u001b[39m'\u001b[39m\u001b[39mt let you open fd=\u001b[39m\u001b[39m{\u001b[39;00mfile\u001b[39m}\u001b[39;00m\u001b[39m by default \u001b[39m\u001b[39m\"\u001b[39m\n\u001b[0;32m    280\u001b[0m         \u001b[39m\"\u001b[39m\u001b[39mas it is likely to crash IPython. If you know what you are doing, \u001b[39m\u001b[39m\"\u001b[39m\n\u001b[0;32m    281\u001b[0m         \u001b[39m\"\u001b[39m\u001b[39myou can use builtins\u001b[39m\u001b[39m'\u001b[39m\u001b[39m open.\u001b[39m\u001b[39m\"\u001b[39m\n\u001b[0;32m    282\u001b[0m     )\n\u001b[1;32m--> 284\u001b[0m \u001b[39mreturn\u001b[39;00m io_open(file, \u001b[39m*\u001b[39;49margs, \u001b[39m*\u001b[39;49m\u001b[39m*\u001b[39;49mkwargs)\n",
      "\u001b[1;31mFileNotFoundError\u001b[0m: [Errno 2] No such file or directory: 'Metodos1/ComplementariaM1/Taller_1/Adhesivos Ópticos/NOA1348.txt'"
     ]
    }
   ],
   "source": [
    "ruta_yml = \"Metodos1/ComplementariaM1/Taller_1/Adhesivos Ópticos/NOA1348.txt\"\n",
    "data1 = Func_archivoyml_tuplas(ruta_yml)\n",
    "n_n = np.array(data1[0])\n",
    "lambda_n = np.array(data1[1])\n"
   ]
  },
  {
   "cell_type": "code",
   "execution_count": null,
   "id": "014bc191",
   "metadata": {},
   "outputs": [
    {
     "ename": "TypeError",
     "evalue": "func_archivoyml_tuplas() missing 1 required positional argument: 'ruta_yml'",
     "output_type": "error",
     "traceback": [
      "\u001b[1;31m---------------------------------------------------------------------------\u001b[0m",
      "\u001b[1;31mTypeError\u001b[0m                                 Traceback (most recent call last)",
      "Cell \u001b[1;32mIn[16], line 1\u001b[0m\n\u001b[1;32m----> 1\u001b[0m data1\u001b[38;5;241m=\u001b[39mfunc_archivoyml_tuplas()\n\u001b[0;32m      2\u001b[0m n_kapton \u001b[38;5;241m=\u001b[39m np\u001b[38;5;241m.\u001b[39marray(data[\u001b[38;5;241m0\u001b[39m])\n\u001b[0;32m      3\u001b[0m lambda_kapton \u001b[38;5;241m=\u001b[39m np\u001b[38;5;241m.\u001b[39marray(data[\u001b[38;5;241m1\u001b[39m])\n",
      "\u001b[1;31mTypeError\u001b[0m: func_archivoyml_tuplas() missing 1 required positional argument: 'ruta_yml'"
     ]
    }
   ],
   "source": [
    "ruta_ym = \"Metodos1/ComplementariaM1/Taller_1/Plásticos Comerciales/Kapton.txt\"\n",
    "data2 = Func_archivoyml_tuplas(ruta_ym)\n",
    "n_kapton = np.array(data2[0])\n",
    "lambda_kapton = np.array(data2[1])\n"
   ]
  },
  {
   "cell_type": "code",
   "execution_count": null,
   "id": "1429d704",
   "metadata": {},
   "outputs": [],
   "source": [
    "n_kapton_promedio = np.mean(n_kapton)\n",
    "n_kapton_desviacion = np.std(n_kapton)\n",
    "\n",
    "n_noa138_promedio = np.mean(n_noa138)\n",
    "n_noa138_desviacion = np.std(n_noa138)\n",
    "\n"
   ]
  },
  {
   "cell_type": "code",
   "execution_count": null,
   "id": "26411a4a",
   "metadata": {},
   "outputs": [
    {
     "ename": "NameError",
     "evalue": "name 'lambda_kapton' is not defined",
     "output_type": "error",
     "traceback": [
      "\u001b[1;31m---------------------------------------------------------------------------\u001b[0m",
      "\u001b[1;31mNameError\u001b[0m                                 Traceback (most recent call last)",
      "Cell \u001b[1;32mIn[40], line 2\u001b[0m\n\u001b[0;32m      1\u001b[0m plt\u001b[38;5;241m.\u001b[39mfigure(figsize\u001b[38;5;241m=\u001b[39m(\u001b[38;5;241m10\u001b[39m, \u001b[38;5;241m6\u001b[39m))\n\u001b[1;32m----> 2\u001b[0m plt\u001b[38;5;241m.\u001b[39mplot(lambda_kapton, n_kapton, label\u001b[38;5;241m=\u001b[39m\u001b[38;5;124m'\u001b[39m\u001b[38;5;124mKapton\u001b[39m\u001b[38;5;124m'\u001b[39m, marker\u001b[38;5;241m=\u001b[39m\u001b[38;5;124m'\u001b[39m\u001b[38;5;124mo\u001b[39m\u001b[38;5;124m'\u001b[39m)\n\u001b[0;32m      3\u001b[0m plt\u001b[38;5;241m.\u001b[39mplot(lambda_noa138, n_noa138, label\u001b[38;5;241m=\u001b[39m\u001b[38;5;124m'\u001b[39m\u001b[38;5;124mNOA138\u001b[39m\u001b[38;5;124m'\u001b[39m, marker\u001b[38;5;241m=\u001b[39m\u001b[38;5;124m'\u001b[39m\u001b[38;5;124mx\u001b[39m\u001b[38;5;124m'\u001b[39m)\n\u001b[0;32m      4\u001b[0m plt\u001b[38;5;241m.\u001b[39mxlabel(\u001b[38;5;124m'\u001b[39m\u001b[38;5;124mLongitud de Onda (nm)\u001b[39m\u001b[38;5;124m'\u001b[39m)\n",
      "\u001b[1;31mNameError\u001b[0m: name 'lambda_kapton' is not defined"
     ]
    },
    {
     "data": {
      "text/plain": [
       "<Figure size 1000x600 with 0 Axes>"
      ]
     },
     "metadata": {},
     "output_type": "display_data"
    }
   ],
   "source": [
    "plt.figure(figsize=(10, 6))\n",
    "plt.plot(lambda_kapton, n_kapton, label='Kapton', marker='o')\n",
    "plt.plot(lambda_n, n_n, label='NOA138', marker='x')\n",
    "plt.xlabel('Longitud de Onda (nm)')\n",
    "plt.ylabel('Índice de Refracción (n)')\n",
    "plt.title(f'Índice de Refracción vs. Longitud de Onda\\n'\n",
    "          f'Kapton - n_promedio: {n_kapton_promedio:.2f}, Desviación Estándar: {n_kapton_desviacion:.2f}\\n'\n",
    "          f'NOA138 - n_promedio: {n_noa138_promedio:.2f}, Desviación Estándar: {n_noa138_desviacion:.2f}')\n",
    "plt.grid(True)\n",
    "plt.legend()\n",
    "plt.show()\n"
   ]
  },
  {
   "cell_type": "code",
   "execution_count": null,
   "id": "ea961c3c",
   "metadata": {},
   "outputs": [],
   "source": []
  }
 ],
 "metadata": {
  "kernelspec": {
   "display_name": "Python 3 (ipykernel)",
   "language": "python",
   "name": "python3"
  },
  "language_info": {
   "codemirror_mode": {
    "name": "ipython",
    "version": 3
   },
   "file_extension": ".py",
   "mimetype": "text/x-python",
   "name": "python",
   "nbconvert_exporter": "python",
   "pygments_lexer": "ipython3",
   "version": "3.11.4"
  }
 },
 "nbformat": 4,
 "nbformat_minor": 5
}
